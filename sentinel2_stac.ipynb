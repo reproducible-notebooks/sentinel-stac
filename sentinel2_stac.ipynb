{
 "cells": [
  {
   "cell_type": "markdown",
   "metadata": {},
   "source": [
    "## AWS Sentinel2 COG data extraction using STAC\n",
    "Extract some data into xarray using STAC, visualize it with Holoviz"
   ]
  },
  {
   "cell_type": "code",
   "execution_count": null,
   "metadata": {},
   "outputs": [],
   "source": [
    "import numpy as np\n",
    "import xarray as xr\n",
    "import stackstac\n",
    "import pystac_client\n",
    "import hvplot.xarray\n",
    "import panel as pn"
   ]
  },
  {
   "cell_type": "markdown",
   "metadata": {},
   "source": [
    "Turn off some annoying warnings:"
   ]
  },
  {
   "cell_type": "code",
   "execution_count": null,
   "metadata": {},
   "outputs": [],
   "source": [
    "import warnings\n",
    "warnings.filterwarnings(\"ignore\")\n",
    "import param\n",
    "param.get_logger().setLevel(param.ERROR)"
   ]
  },
  {
   "cell_type": "markdown",
   "metadata": {
    "tags": []
   },
   "source": [
    "### Create a Dask cluster\n",
    "\n",
    "To cut down on the execution time when accessing large amounts of data, we can use a Dask cluster to do the computation in parallel. "
   ]
  },
  {
   "cell_type": "code",
   "execution_count": null,
   "metadata": {},
   "outputs": [],
   "source": [
    "from dask.distributed import Client"
   ]
  },
  {
   "cell_type": "code",
   "execution_count": null,
   "metadata": {},
   "outputs": [],
   "source": [
    "client = Client()"
   ]
  },
  {
   "cell_type": "code",
   "execution_count": null,
   "metadata": {},
   "outputs": [],
   "source": [
    "client"
   ]
  },
  {
   "cell_type": "code",
   "execution_count": null,
   "metadata": {},
   "outputs": [],
   "source": [
    "#client.close();cluster.shutdown()"
   ]
  },
  {
   "cell_type": "markdown",
   "metadata": {},
   "source": [
    "Using `pystac_client` we can search STAC endpoints for items matching our query parameters."
   ]
  },
  {
   "cell_type": "markdown",
   "metadata": {},
   "source": [
    "#### Explore what collections exist on a STAC API endpoint"
   ]
  },
  {
   "cell_type": "code",
   "execution_count": null,
   "metadata": {},
   "outputs": [],
   "source": [
    "stac_api_endpoint = 'https://earth-search.aws.element84.com/v0'\n",
    "stac = pystac_client.Client.open(stac_api_endpoint)"
   ]
  },
  {
   "cell_type": "code",
   "execution_count": null,
   "metadata": {},
   "outputs": [],
   "source": [
    "for collection in stac.get_all_collections():\n",
    "    print(collection)"
   ]
  },
  {
   "cell_type": "markdown",
   "metadata": {},
   "source": [
    "#### Search for data in collections"
   ]
  },
  {
   "cell_type": "code",
   "execution_count": null,
   "metadata": {},
   "outputs": [],
   "source": [
    "collections=[\"sentinel-s2-l2a-cogs\"]\n",
    "datetime = \"2017-12-01/2018-01-01\"\n",
    "# bbox_lonlat = [40.09, -2.98, 40.61, -2.46]   #africa\n",
    "bbox_lonlat = [151.2957545, -33.7390216, 151.312234, -33.7012561] # AUS, coastsat\n",
    "cloud_max = 60"
   ]
  },
  {
   "cell_type": "code",
   "execution_count": null,
   "metadata": {},
   "outputs": [],
   "source": [
    "search = stac.search(\n",
    "    bbox=bbox_lonlat,\n",
    "    datetime=datetime,\n",
    "    collections=collections,\n",
    "    limit=500,  # fetch items in batches of 500\n",
    "    query={\"eo:cloud_cover\": {\"lt\": cloud_max}},\n",
    ")\n",
    "\n",
    "items = list(search.get_items())\n",
    "print(len(items))"
   ]
  },
  {
   "cell_type": "code",
   "execution_count": null,
   "metadata": {
    "tags": []
   },
   "outputs": [],
   "source": [
    "items_as_dict = [item.to_dict() for item in items]"
   ]
  },
  {
   "cell_type": "markdown",
   "metadata": {},
   "source": [
    "#### Use StackStac to open the items in xarray"
   ]
  },
  {
   "cell_type": "code",
   "execution_count": null,
   "metadata": {},
   "outputs": [],
   "source": [
    "da = (\n",
    "    stackstac.stack(\n",
    "        items_as_dict,\n",
    "        bounds_latlon = bbox_lonlat,\n",
    "        assets=[\"B04\", \"B03\", \"B02\"],  # red, green, blue\n",
    "        chunksize=4096,    \n",
    "        resolution=10,\n",
    "    )\n",
    "    .where(lambda x: x > 0, other=np.nan)  # sentinel-2 uses 0 as nodata\n",
    "#    .assign_coords(band=lambda x: x.common_name.rename(\"band\"))  # use common names\n",
    ")\n",
    "da"
   ]
  },
  {
   "cell_type": "markdown",
   "metadata": {},
   "source": [
    "### Visualize with Holoviz \n",
    "Holoviz doesn't like all the extra coordinates, so drop everything except 'x','y','time', and 'band'.  And scale the R,G,B data to between [0,1]"
   ]
  },
  {
   "cell_type": "code",
   "execution_count": null,
   "metadata": {},
   "outputs": [],
   "source": [
    "drop_coords = [x for x in list(da.coords) if not x in ['x','y','time','band']]\n",
    "da = da.drop_vars(drop_coords)"
   ]
  },
  {
   "cell_type": "code",
   "execution_count": null,
   "metadata": {},
   "outputs": [],
   "source": [
    "dmean = float(da.mean())\n",
    "dstd = float(da.std())\n",
    "vmin = max(dmean - 2*dstd,0)\n",
    "vmax = dmean + 2*dstd\n",
    "print(vmax)"
   ]
  },
  {
   "cell_type": "code",
   "execution_count": null,
   "metadata": {},
   "outputs": [],
   "source": [
    "da2 = da/vmax"
   ]
  },
  {
   "cell_type": "code",
   "execution_count": null,
   "metadata": {
    "tags": []
   },
   "outputs": [],
   "source": [
    "da2.hvplot.rgb(x='x', y='y',  bands='band', crs=32756, rasterize=True, \n",
    "                 frame_width=200, widgets={'time': pn.widgets.Select})"
   ]
  }
 ],
 "metadata": {
  "kernelspec": {
   "display_name": "stac:Python",
   "language": "python",
   "name": "conda-env-stac-py"
  },
  "language_info": {
   "codemirror_mode": {
    "name": "ipython",
    "version": 3
   },
   "file_extension": ".py",
   "mimetype": "text/x-python",
   "name": "python",
   "nbconvert_exporter": "python",
   "pygments_lexer": "ipython3",
   "version": "3.9.10"
  },
  "widgets": {
   "application/vnd.jupyter.widget-state+json": {
    "state": {},
    "version_major": 2,
    "version_minor": 0
   }
  }
 },
 "nbformat": 4,
 "nbformat_minor": 4
}
